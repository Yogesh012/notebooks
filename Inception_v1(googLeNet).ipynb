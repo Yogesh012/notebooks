{
 "cells": [
  {
   "cell_type": "code",
   "execution_count": 2,
   "metadata": {
    "executionInfo": {
     "elapsed": 2784,
     "status": "ok",
     "timestamp": 1607618726159,
     "user": {
      "displayName": "Yogesh Sharma",
      "photoUrl": "https://lh3.googleusercontent.com/a-/AOh14GjOKzky3zu5ThsPmztjQRKmiL_bdoWiWlluZUaFvw=s64",
      "userId": "07927222175763348175"
     },
     "user_tz": -330
    },
    "id": "AKi4-rtFQoNU"
   },
   "outputs": [],
   "source": [
    "import numpy as np\n",
    "import time\n",
    "\n",
    "import PIL.Image as Image\n",
    "import matplotlib.pylab as plt\n",
    "\n",
    "import tensorflow as tf\n",
    "from tensorflow import keras\n",
    "from keras import layers\n",
    "from keras.regularizers import l2\n",
    "from keras import backend as K\n",
    "import tensorflow_hub as hub\n",
    "import h5py\n",
    "\n",
    "K.set_image_data_format('channels_first')\n",
    "weights_path = '/content/inception_v1_weights/googlenet_weights.h5'"
   ]
  },
  {
   "cell_type": "code",
   "execution_count": 3,
   "metadata": {
    "colab": {
     "base_uri": "https://localhost:8080/"
    },
    "executionInfo": {
     "elapsed": 1485,
     "status": "ok",
     "timestamp": 1607618726161,
     "user": {
      "displayName": "Yogesh Sharma",
      "photoUrl": "https://lh3.googleusercontent.com/a-/AOh14GjOKzky3zu5ThsPmztjQRKmiL_bdoWiWlluZUaFvw=s64",
      "userId": "07927222175763348175"
     },
     "user_tz": -330
    },
    "id": "-ufBRfgKZ13N",
    "outputId": "ccd17c10-1ea5-4e6c-87d1-4745186af6b5"
   },
   "outputs": [
    {
     "name": "stdout",
     "output_type": "stream",
     "text": [
      "Downloading data from https://storage.googleapis.com/download.tensorflow.org/data/ImageNetLabels.txt\n",
      "16384/10484 [==============================================] - 0s 0us/step\n"
     ]
    }
   ],
   "source": [
    "labels_path = tf.keras.utils.get_file('ImageNetLabels.txt','https://storage.googleapis.com/download.tensorflow.org/data/ImageNetLabels.txt')\n",
    "imagenet_labels = np.array(open(labels_path).read().splitlines())\n",
    "labels = np.loadtxt('synset_words.txt', str, delimiter='\\t')"
   ]
  },
  {
   "cell_type": "markdown",
   "metadata": {
    "id": "T5TqpfJUXYQb"
   },
   "source": [
    "---\n",
    "#**INCEPTION MODEL**\n",
    "\n",
    "---\n",
    "\n"
   ]
  },
  {
   "cell_type": "code",
   "execution_count": 72,
   "metadata": {
    "executionInfo": {
     "elapsed": 1211,
     "status": "ok",
     "timestamp": 1607622156201,
     "user": {
      "displayName": "Yogesh Sharma",
      "photoUrl": "https://lh3.googleusercontent.com/a-/AOh14GjOKzky3zu5ThsPmztjQRKmiL_bdoWiWlluZUaFvw=s64",
      "userId": "07927222175763348175"
     },
     "user_tz": -330
    },
    "id": "F1q6Nwk6B1ml"
   },
   "outputs": [],
   "source": [
    "class LRN(keras.layers.Layer):\n",
    "\n",
    "    def __init__(self, alpha=0.0001, k=1, beta=0.75, n=5, **kwargs):\n",
    "        self.alpha = alpha\n",
    "        self.k = k\n",
    "        self.beta = beta\n",
    "        self.n = n\n",
    "        super(LRN, self).__init__(**kwargs)\n",
    "\n",
    "    def call(self, x, mask=None):\n",
    "        b, ch, r, c = x.shape\n",
    "        half_n = self.n // 2 # half the local region\n",
    "        input_sqr = K.square(x) # square the input\n",
    "        if K.backend() == 'theano':\n",
    "            # make an empty tensor with zero pads along channel dimension\n",
    "            zeros = T.alloc(0., b, ch + 2*half_n, r, c)\n",
    "            # set the center to be the squared input\n",
    "            input_sqr = T.set_subtensor(zeros[:, half_n:half_n+ch, :, :], input_sqr)\n",
    "        else:\n",
    "            input_sqr = tf.pad(input_sqr, [[0, 0], [half_n, half_n], [0, 0], [0, 0]])\n",
    "        scale = self.k # offset for the scale\n",
    "        norm_alpha = self.alpha / self.n # normalized alpha\n",
    "        for i in range(self.n):\n",
    "            scale += norm_alpha * input_sqr[:, i:i+ch, :, :]\n",
    "        scale = scale ** self.beta\n",
    "        x = x / scale\n",
    "        return x\n",
    "\n",
    "    def get_config(self):\n",
    "        config = {\"alpha\": self.alpha,\n",
    "                  \"k\": self.k,\n",
    "                  \"beta\": self.beta,\n",
    "                  \"n\": self.n}\n",
    "        base_config = super(LRN, self).get_config()\n",
    "        return dict(list(base_config.items()) + list(config.items()))"
   ]
  },
  {
   "cell_type": "code",
   "execution_count": 303,
   "metadata": {
    "executionInfo": {
     "elapsed": 2455,
     "status": "ok",
     "timestamp": 1607629003253,
     "user": {
      "displayName": "Yogesh Sharma",
      "photoUrl": "https://lh3.googleusercontent.com/a-/AOh14GjOKzky3zu5ThsPmztjQRKmiL_bdoWiWlluZUaFvw=s64",
      "userId": "07927222175763348175"
     },
     "user_tz": -330
    },
    "id": "9PY4z93VXXbt"
   },
   "outputs": [],
   "source": [
    "# if K.image_data_format() == 'channels_first':\n",
    "#   channel_axis = 1\n",
    "# else:\n",
    "#   channel_axis = 3\n",
    "channel_axis = 1\n",
    "K.set_image_data_format('channels_first')\n",
    "\n",
    "input = keras.Input(shape=(3, 224, 224))\n",
    "\n",
    "x = layers.ZeroPadding2D(padding=(3,3))(input)\n",
    "\n",
    "x = layers.Conv2D(64, (7,7), strides=(2,2), padding='valid', activation='relu', name='conv2d0', kernel_regularizer=l2(0.0002))(x)\n",
    "# x = layers.ZeroPadding2D(padding=(1,1))(x)\n",
    "# x = PoolHelper()(x)\n",
    "x = layers.MaxPooling2D(pool_size=(3,3), strides=(2,2), padding='valid', name='maxpool2d0')(x)\n",
    "x = LRN(name='lrn0')(x)\n",
    "\n",
    "x = layers.Conv2D(64, (1,1), strides=(1,1), padding='valid', activation='relu', name='conv2d1', kernel_regularizer=l2(0.0002))(x)\n",
    "x = ZeroPadding2D(padding=(1, 1))(x)\n",
    "x = layers.Conv2D(192, (3,3), strides=(1,1), padding='valid', activation='relu', name='conv2d2', kernel_regularizer=l2(0.0002))(x)\n",
    "x = LRN(name='lrn1')(x)\n",
    "# x = layers.ZeroPadding2D(padding=(1,1))(x)\n",
    "# x = PoolHelper()(x)\n",
    "x = layers.MaxPooling2D(pool_size=(3,3), strides=(2,2), padding='valid', name='maxpool2d1')(x)\n",
    "\n",
    "# Inception module 3a\n",
    "branch1x1 = layers.Conv2D(64, (1,1), strides=(1,1), padding='valid', activation='relu', name='3a1x1', kernel_regularizer=l2(0.0002))(x)\n",
    "branch3x3 = layers.Conv2D(96, (1,1), strides=(1,1), padding='valid', activation='relu', name='3a3x3reduce', kernel_regularizer=l2(0.0002))(x)\n",
    "branch3x3 = layers.ZeroPadding2D(padding=(1, 1))(branch3x3)\n",
    "branch3x3 = layers.Conv2D(128, (3,3), strides=(1,1), padding='valid', activation='relu', name='3a3x3', kernel_regularizer=l2(0.0002))(branch3x3)\n",
    "branch5x5 = layers.Conv2D(16, (1,1), strides=(1,1), padding='valid', activation='relu', name='3a5x5reduce', kernel_regularizer=l2(0.0002))(x)\n",
    "branch5x5 = layers.ZeroPadding2D(padding=(2, 2))(branch5x5)\n",
    "branch5x5 = layers.Conv2D(32, (5,5), strides=(1,1), padding='valid', activation='relu', name='3a5x5', kernel_regularizer=l2(0.0002))(branch5x5)\n",
    "branch_pool = layers.MaxPooling2D(pool_size=(3,3), strides=(1,1), padding='same', name='3amaxpool')(x)\n",
    "branch_pool = layers.Conv2D(32, (1,1), strides=(1,1), padding='valid', activation='relu', name='3apool1x1', kernel_regularizer=l2(0.0002))(branch_pool)\n",
    "x = layers.Concatenate(axis=channel_axis, name=\"mixed3a\")([branch1x1, branch3x3, branch5x5, branch_pool])\n",
    "\n",
    "# Inception module 3b\n",
    "branch1x1 = layers.Conv2D(128, (1,1), strides=(1,1), padding='valid', activation='relu', name='3b1x1', kernel_regularizer=l2(0.0002))(x)\n",
    "branch3x3 = layers.Conv2D(128, (1,1), strides=(1,1), padding='valid', activation='relu', name='3b3x3reduce', kernel_regularizer=l2(0.0002))(x)\n",
    "branch3x3 = layers.ZeroPadding2D(padding=(1, 1))(branch3x3)\n",
    "branch3x3 = layers.Conv2D(192, (3,3), strides=(1,1), padding='valid', activation='relu', name='3b3x3', kernel_regularizer=l2(0.0002))(branch3x3)\n",
    "branch5x5 = layers.Conv2D(32, (1,1), strides=(1,1), padding='valid', activation='relu', name='3b5x5reduce', kernel_regularizer=l2(0.0002))(x)\n",
    "branch5x5 = layers.ZeroPadding2D(padding=(2, 2))(branch5x5)\n",
    "branch5x5 = layers.Conv2D(96, (5,5), strides=(1,1), padding='valid', activation='relu', name='3b5x5', kernel_regularizer=l2(0.0002))(branch5x5)\n",
    "branch_pool = layers.MaxPooling2D(pool_size=(3,3), strides=(1,1), padding='same', name='3bmaxpool')(x)\n",
    "branch_pool = layers.Conv2D(64, (1,1), strides=(1,1), padding='valid', activation='relu', name='3bpool1x1', kernel_regularizer=l2(0.0002))(branch_pool)\n",
    "x = layers.Concatenate(axis=channel_axis, name=\"mixed3b\")([branch1x1, branch3x3, branch5x5, branch_pool])\n",
    "\n",
    "# x = layers.ZeroPadding2D(padding=(1, 1))(x)\n",
    "# x = PoolHelper()(x)\n",
    "x = layers.MaxPooling2D(pool_size=(3,3), strides=(2,2), padding='same', name='maxpool2d2')(x)\n",
    "\n",
    "# Inception module 4a\n",
    "branch1x1 = layers.Conv2D(192, (1,1), strides=(1,1), padding='valid', activation='relu', name='4a1x1', kernel_regularizer=l2(0.0002))(x)\n",
    "branch3x3 = layers.Conv2D(96, (1,1), strides=(1,1), padding='valid', activation='relu', name='4a3x3reduce', kernel_regularizer=l2(0.0002))(x)\n",
    "branch3x3 = layers.ZeroPadding2D(padding=(1, 1))(branch3x3)\n",
    "branch3x3 = layers.Conv2D(208, (3,3), strides=(1,1), padding='valid', activation='relu', name='4a3x3', kernel_regularizer=l2(0.0002))(branch3x3)\n",
    "branch5x5 = layers.Conv2D(16, (1,1), strides=(1,1), padding='valid', activation='relu', name='4a5x5reduce', kernel_regularizer=l2(0.0002))(x)\n",
    "branch5x5 = layers.ZeroPadding2D(padding=(2, 2))(branch5x5)\n",
    "branch5x5 = layers.Conv2D(48, (5,5), strides=(1,1), padding='valid', activation='relu', name='4a5x5', kernel_regularizer=l2(0.0002))(branch5x5)\n",
    "branch_pool = layers.MaxPooling2D(pool_size=(3,3), strides=(1,1), padding='same', name='4amaxpool')(x)\n",
    "branch_pool = layers.Conv2D(64, (1,1), strides=(1,1), padding='valid', activation='relu', name='4apool1x1', kernel_regularizer=l2(0.0002))(branch_pool)\n",
    "x = layers.Concatenate(axis=channel_axis, name=\"mixed4a\")([branch1x1, branch3x3, branch5x5, branch_pool])\n",
    "\n",
    "# Auxiliary classifier 1\n",
    "loss1_ave_pool = layers.AveragePooling2D(pool_size=(5,5), strides=(3,3), name='loss1/avg_pool')(x)\n",
    "loss1_conv = layers.Conv2D(128, (1,1), padding='valid', activation='relu', name='loss1/conv', kernel_regularizer=l2(0.0002))(loss1_ave_pool)\n",
    "loss1_flat = layers.Flatten()(loss1_conv)\n",
    "loss1_fc = layers.Dense(1024, activation='relu', name='loss1/fc', kernel_regularizer=l2(0.0002))(loss1_flat)\n",
    "loss1_drop_fc = layers.Dropout(rate=0.7)(loss1_fc)\n",
    "loss1_classifier = layers.Dense(1000, name='loss1/classifier', kernel_regularizer=l2(0.0002))(loss1_drop_fc)\n",
    "loss1_classifier_act = layers.Activation('softmax')(loss1_classifier)\n",
    "\n",
    "# Inception module 4b\n",
    "branch1x1 = layers.Conv2D(160, (1,1), strides=(1,1), padding='valid', activation='relu', name='4b1x1', kernel_regularizer=l2(0.0002))(x)\n",
    "branch3x3 = layers.Conv2D(112, (1,1), strides=(1,1), padding='valid', activation='relu', name='4b3x3reduce', kernel_regularizer=l2(0.0002))(x)\n",
    "branch3x3 = layers.ZeroPadding2D(padding=(1, 1))(branch3x3)\n",
    "branch3x3 = layers.Conv2D(224, (3,3), strides=(1,1), padding='valid', activation='relu', name='4b3x3', kernel_regularizer=l2(0.0002))(branch3x3)\n",
    "branch5x5 = layers.Conv2D(24, (1,1), strides=(1,1), padding='valid', activation='relu', name='4b5x5reduce', kernel_regularizer=l2(0.0002))(x)\n",
    "branch5x5 = layers.ZeroPadding2D(padding=(2, 2))(branch5x5)\n",
    "branch5x5 = layers.Conv2D(64, (5,5), strides=(1,1), padding='valid', activation='relu', name='4b5x5', kernel_regularizer=l2(0.0002))(branch5x5)\n",
    "branch_pool = layers.MaxPooling2D(pool_size=(3,3), strides=(1,1), padding='same', name='4bmaxpool')(x)\n",
    "branch_pool = layers.Conv2D(64, (1,1), strides=(1,1), padding='valid', activation='relu', name='4bpool1x1', kernel_regularizer=l2(0.0002))(branch_pool)\n",
    "x = layers.Concatenate(axis=channel_axis, name=\"mixed4b\")([branch1x1, branch3x3, branch5x5, branch_pool])\n",
    "\n",
    "# Inception module 4c\n",
    "branch1x1 = layers.Conv2D(128, (1,1), strides=(1,1), padding='valid', activation='relu', name='4c1x1', kernel_regularizer=l2(0.0002))(x)\n",
    "branch3x3 = layers.Conv2D(128, (1,1), strides=(1,1), padding='valid', activation='relu', name='4c3x3reduce', kernel_regularizer=l2(0.000))(x)\n",
    "branch3x3 = layers.ZeroPadding2D(padding=(1, 1))(branch3x3)\n",
    "branch3x3 = layers.Conv2D(256, (3,3), strides=(1,1), padding='valid', activation='relu', name='4c3x3', kernel_regularizer=l2(0.0002))(branch3x3)\n",
    "branch5x5 = layers.Conv2D(24, (1,1), strides=(1,1), padding='valid', activation='relu', name='4c5x5reduce', kernel_regularizer=l2(0.0002))(x)\n",
    "branch5x5 = layers.ZeroPadding2D(padding=(2, 2))(branch5x5)\n",
    "branch5x5 = layers.Conv2D(64, (5,5), strides=(1,1), padding='valid', activation='relu', name='4c5x5', kernel_regularizer=l2(0.0002))(branch5x5)\n",
    "branch_pool = layers.MaxPooling2D(pool_size=(3,3), strides=(1,1), padding='same', name='4cmaxpool')(x)\n",
    "branch_pool = layers.Conv2D(64, (1,1), strides=(1,1), padding='valid', activation='relu', name='4cpool1x1', kernel_regularizer=l2(0.0002))(branch_pool)\n",
    "x = layers.Concatenate(axis=channel_axis, name=\"mixed4c\")([branch1x1, branch3x3, branch5x5, branch_pool])\n",
    "\n",
    "# Inception module 4d\n",
    "branch1x1 = layers.Conv2D(112, (1,1), strides=(1,1), padding='valid', activation='relu', name='4d1x1', kernel_regularizer=l2(0.0002))(x)\n",
    "branch3x3 = layers.Conv2D(144, (1,1), strides=(1,1), padding='valid', activation='relu', name='4d3x3reduce', kernel_regularizer=l2(0.0002))(x)\n",
    "branch3x3 = layers.ZeroPadding2D(padding=(1, 1))(branch3x3)\n",
    "branch3x3 = layers.Conv2D(288, (3,3), strides=(1,1), padding='valid', activation='relu', name='4d3x3', kernel_regularizer=l2(0.0002))(branch3x3)\n",
    "branch5x5 = layers.Conv2D(32, (1,1), strides=(1,1), padding='valid', activation='relu', name='4d5x5reduce', kernel_regularizer=l2(0.0002))(x)\n",
    "branch5x5 = layers.ZeroPadding2D(padding=(2, 2))(branch5x5)\n",
    "branch5x5 = layers.Conv2D(64, (5,5), strides=(1,1), padding='valid', activation='relu', name='4d5x5', kernel_regularizer=l2(0.0002))(branch5x5)\n",
    "branch_pool = layers.MaxPooling2D(pool_size=(3,3), strides=(1,1), padding='same', name='4dmaxpool')(x)\n",
    "branch_pool = layers.Conv2D(64, (1,1), strides=(1,1), padding='valid', activation='relu', name='4dpool1x1', kernel_regularizer=l2(0.0002))(branch_pool)\n",
    "x = layers.Concatenate(axis=channel_axis, name=\"mixed4d\")([branch1x1, branch3x3, branch5x5, branch_pool])\n",
    "\n",
    "# Auxiliary classifier 2\n",
    "loss2_ave_pool = layers.AveragePooling2D(pool_size=(5,5), strides=(3,3), name='loss2/ave_pool')(x)\n",
    "loss2_conv = layers.Conv2D(128, (1,1), padding='valid', activation='relu', name='loss2/conv', kernel_regularizer=l2(0.0002))(loss2_ave_pool)\n",
    "loss2_flat = layers.Flatten()(loss2_conv)\n",
    "loss2_fc = layers.Dense(1024, activation='relu', name='loss2/fc', kernel_regularizer=l2(0.0002))(loss2_flat)\n",
    "loss2_drop_fc = layers.Dropout(rate=0.7)(loss2_fc)\n",
    "loss2_classifier = layers.Dense(1000, name='loss2/classifier', kernel_regularizer=l2(0.0002))(loss2_drop_fc)\n",
    "loss2_classifier_act = layers.Activation('softmax')(loss2_classifier)\n",
    "\n",
    "# Inception module 4e\n",
    "branch1x1 = layers.Conv2D(256, (1,1), strides=(1,1), padding='valid', activation='relu', name='4e1x1', kernel_regularizer=l2(0.0002))(x)\n",
    "branch3x3 = layers.Conv2D(160, (1,1), strides=(1,1), padding='valid', activation='relu', name='4e3x3reduce', kernel_regularizer=l2(0.0002))(x)\n",
    "branch3x3 = layers.ZeroPadding2D(padding=(1, 1))(branch3x3)\n",
    "branch3x3 = layers.Conv2D(320, (3,3), strides=(1,1), padding='valid', activation='relu', name='4e3x3', kernel_regularizer=l2(0.0002))(branch3x3)\n",
    "branch5x5 = layers.Conv2D(32, (1,1), strides=(1,1), padding='valid', activation='relu', name='4e5x5reduce', kernel_regularizer=l2(0.0002))(x)\n",
    "branch5x5 = layers.ZeroPadding2D(padding=(2, 2))(branch5x5)\n",
    "branch5x5 = layers.Conv2D(128, (5,5), strides=(1,1), padding='valid', activation='relu', name='4e5x5', kernel_regularizer=l2(0.0002))(branch5x5)\n",
    "branch_pool = layers.MaxPooling2D(pool_size=(3,3), strides=(1,1), padding='same', name='4emaxpool')(x)\n",
    "branch_pool = layers.Conv2D(128, (1,1), strides=(1,1), padding='valid', activation='relu', name='4epool1x1', kernel_regularizer=l2(0.0002))(branch_pool)\n",
    "x = layers.Concatenate(axis=channel_axis, name=\"mixed4e\")([branch1x1, branch3x3, branch5x5, branch_pool])\n",
    "\n",
    "# x = layers.ZeroPadding2D(padding=(1, 1))(x)\n",
    "# x = PoolHelper()(x)\n",
    "x = layers.MaxPooling2D(pool_size=(3,3), strides=(2,2), padding='same', name='maxpool2d3')(x)\n",
    "\n",
    "# Inception module 5a\n",
    "branch1x1 = layers.Conv2D(256, (1,1), strides=(1,1), padding='valid', activation='relu', name='5a1x1', kernel_regularizer=l2(0.0002))(x)\n",
    "branch3x3 = layers.Conv2D(160, (1,1), strides=(1,1), padding='valid', activation='relu', name='5a3x3reduce', kernel_regularizer=l2(0.0002))(x)\n",
    "branch3x3 = layers.ZeroPadding2D(padding=(1, 1))(branch3x3)\n",
    "branch3x3 = layers.Conv2D(320, (3,3), strides=(1,1), padding='valid', activation='relu', name='5a3x3', kernel_regularizer=l2(0.0002))(branch3x3)\n",
    "branch5x5 = layers.Conv2D(32, (1,1), strides=(1,1), padding='valid', activation='relu', name='5a5x5reduce', kernel_regularizer=l2(0.0002))(x)\n",
    "branch5x5 = layers.ZeroPadding2D(padding=(2, 2))(branch5x5)\n",
    "branch5x5 = layers.Conv2D(128, (5,5), strides=(1,1), padding='valid', activation='relu', name='5a5x5', kernel_regularizer=l2(0.0002))(branch5x5)\n",
    "branch_pool = layers.MaxPooling2D(pool_size=(3,3), strides=(1,1), padding='same', name='5amaxpool')(x)\n",
    "branch_pool = layers.Conv2D(128, (1,1), strides=(1,1), padding='valid', activation='relu', name='5apool1x1', kernel_regularizer=l2(0.0002))(branch_pool)\n",
    "x = layers.Concatenate(axis=channel_axis, name=\"mixed5a\")([branch1x1, branch3x3, branch5x5, branch_pool])\n",
    "\n",
    "# Inception module 5b\n",
    "branch1x1 = layers.Conv2D(384, (1,1), strides=(1,1), padding='valid', activation='relu', name='5b1x1', kernel_regularizer=l2(0.0002))(x)\n",
    "branch3x3 = layers.Conv2D(192, (1,1), strides=(1,1), padding='valid', activation='relu', name='5b3x3reduce', kernel_regularizer=l2(0.0002))(x)\n",
    "branch3x3 = layers.ZeroPadding2D(padding=(1, 1))(branch3x3)\n",
    "branch3x3 = layers.Conv2D(384, (3,3), strides=(1,1), padding='valid', activation='relu', name='5b3x3', kernel_regularizer=l2(0.0002))(branch3x3)\n",
    "branch5x5 = layers.Conv2D(48, (1,1), strides=(1,1), padding='valid', activation='relu', name='5b5x5reduce', kernel_regularizer=l2(0.0002))(x)\n",
    "branch5x5 = layers.ZeroPadding2D(padding=(2, 2))(branch5x5)\n",
    "branch5x5 = layers.Conv2D(128, (5,5), strides=(1,1), padding='valid', activation='relu', name='5b5x5', kernel_regularizer=l2(0.0002))(branch5x5)\n",
    "branch_pool = layers.MaxPooling2D(pool_size=(3,3), strides=(1,1), padding='same', name='5bmaxpool')(x)\n",
    "branch_pool = layers.Conv2D(128, (1,1), strides=(1,1), padding='valid', activation='relu', name='5bpool1x1', kernel_regularizer=l2(0.0002))(branch_pool)\n",
    "x = layers.Concatenate(axis=channel_axis, name=\"mixed5b\")([branch1x1, branch3x3, branch5x5, branch_pool])\n",
    "\n",
    "x = layers.AveragePooling2D(pool_size=(7,7), strides=(1,1), name='avgpool2d0')(x)\n",
    "x = layers.Flatten(name=\"flat1\")(x)\n",
    "x = layers.Dropout(rate=0.4, name=\"dropout_final\")(x)\n",
    "x = layers.Dense(1000, name='classifier', kernel_regularizer=l2(0.0002))(x)\n",
    "x = layers.Activation('softmax', name='prob')(x)\n",
    "\n",
    "model = keras.Model(inputs=input, outputs=[loss1_classifier_act, loss2_classifier_act, x])\n",
    "# sgd = SGD(lr=0.1, decay=1e-6, momentum=0.9, nesterov=True)\n",
    "# model.compile(optimizer=sgd, loss='categorical_crossentropy')\n",
    "# keras.utils.plot_model(model, show_layer_names=True, show_shapes=True)"
   ]
  },
  {
   "cell_type": "code",
   "execution_count": 304,
   "metadata": {
    "executionInfo": {
     "elapsed": 1256,
     "status": "ok",
     "timestamp": 1607629006734,
     "user": {
      "displayName": "Yogesh Sharma",
      "photoUrl": "https://lh3.googleusercontent.com/a-/AOh14GjOKzky3zu5ThsPmztjQRKmiL_bdoWiWlluZUaFvw=s64",
      "userId": "07927222175763348175"
     },
     "user_tz": -330
    },
    "id": "bYaoegU5G_VJ"
   },
   "outputs": [],
   "source": [
    "model.load_weights(weights_path)"
   ]
  },
  {
   "cell_type": "code",
   "execution_count": 317,
   "metadata": {
    "colab": {
     "base_uri": "https://localhost:8080/"
    },
    "executionInfo": {
     "elapsed": 1062,
     "status": "ok",
     "timestamp": 1607629240508,
     "user": {
      "displayName": "Yogesh Sharma",
      "photoUrl": "https://lh3.googleusercontent.com/a-/AOh14GjOKzky3zu5ThsPmztjQRKmiL_bdoWiWlluZUaFvw=s64",
      "userId": "07927222175763348175"
     },
     "user_tz": -330
    },
    "id": "fI0vJThVJN5L",
    "outputId": "0c0381a8-ee7f-4c27-b6c9-57b0322cfd70"
   },
   "outputs": [
    {
     "data": {
      "text/plain": [
       "TensorShape([1, 3, 224, 224])"
      ]
     },
     "execution_count": 317,
     "metadata": {
      "tags": []
     },
     "output_type": "execute_result"
    }
   ],
   "source": [
    "IMAGE_SHAPE = (224, 224)\n",
    "img_o = Image.open('puppy.jpg').resize(IMAGE_SHAPE)\n",
    "img = np.array(img_o).astype(np.float32)\n",
    "img[:, :, 0] -= 123.68\n",
    "img[:, :, 1] -= 116.779\n",
    "img[:, :, 2] -= 103.939\n",
    "img[:,:,[0,1,2]] = img[:,:,[2,1,0]]\n",
    "img = tf.transpose(img, (2, 0, 1))\n",
    "img = tf.expand_dims(img, axis=0)\n",
    "img.shape"
   ]
  },
  {
   "cell_type": "code",
   "execution_count": 320,
   "metadata": {
    "colab": {
     "base_uri": "https://localhost:8080/",
     "height": 281
    },
    "executionInfo": {
     "elapsed": 1667,
     "status": "ok",
     "timestamp": 1607629391956,
     "user": {
      "displayName": "Yogesh Sharma",
      "photoUrl": "https://lh3.googleusercontent.com/a-/AOh14GjOKzky3zu5ThsPmztjQRKmiL_bdoWiWlluZUaFvw=s64",
      "userId": "07927222175763348175"
     },
     "user_tz": -330
    },
    "id": "20Zcv-AkJVss",
    "outputId": "56eea569-6399-4be3-c0b0-e2b45d2fee1c"
   },
   "outputs": [
    {
     "data": {
      "text/plain": [
       "Text(0.5, 1.0, 'Prediction: Curly-Coated Retriever | n02099601 golden retriever')"
      ]
     },
     "execution_count": 320,
     "metadata": {
      "tags": []
     },
     "output_type": "execute_result"
    },
    {
     "data": {
      "image/png": "[encoded data removed]",
      "text/plain": [
       "<Figure size 432x288 with 1 Axes>"
      ]
     },
     "metadata": {
      "needs_background": "light",
      "tags": []
     },
     "output_type": "display_data"
    }
   ],
   "source": [
    "res = model.predict(img)\n",
    "predicted_class = np.argmax(res[2][0], axis=-1)\n",
    "plt.imshow(img_o)\n",
    "plt.axis('off')\n",
    "predicted_class_name = imagenet_labels[predicted_class]\n",
    "predicted_label = labels[predicted_class]\n",
    "plt.title(\"Prediction: \" + predicted_class_name.title() + \" | \" + predicted_label)"
   ]
  },
  {
   "cell_type": "markdown",
   "metadata": {
    "id": "BcCpL9KIagkc"
   },
   "source": [
    "# **Load weight**\n",
    "#### These methods are from the keras library... in case you want to try loading weight manually"
   ]
  },
  {
   "cell_type": "code",
   "execution_count": 7,
   "metadata": {
    "executionInfo": {
     "elapsed": 1778,
     "status": "ok",
     "timestamp": 1607618787876,
     "user": {
      "displayName": "Yogesh Sharma",
      "photoUrl": "https://lh3.googleusercontent.com/a-/AOh14GjOKzky3zu5ThsPmztjQRKmiL_bdoWiWlluZUaFvw=s64",
      "userId": "07927222175763348175"
     },
     "user_tz": -330
    },
    "id": "byQ_iro6LDQC"
   },
   "outputs": [],
   "source": [
    "def load_attributes_from_hdf5_group(group, name):\n",
    "  \"\"\"Loads attributes of the specified name from the HDF5 group.\n",
    "  This method deals with an inherent problem\n",
    "  of HDF5 file which is not able to store\n",
    "  data larger than HDF5_OBJECT_HEADER_LIMIT bytes.\n",
    "  Arguments:\n",
    "      group: A pointer to a HDF5 group.\n",
    "      name: A name of the attributes to load.\n",
    "  Returns:\n",
    "      data: Attributes data.\n",
    "  \"\"\"\n",
    "  if name in group.attrs:\n",
    "    data = [n.decode('utf8') for n in group.attrs[name]]\n",
    "  else:\n",
    "    data = []\n",
    "    chunk_id = 0\n",
    "    while '%s%d' % (name, chunk_id) in group.attrs:\n",
    "      data.extend(\n",
    "          [n.decode('utf8') for n in group.attrs['%s%d' % (name, chunk_id)]])\n",
    "      chunk_id += 1\n",
    "  return data"
   ]
  },
  {
   "cell_type": "code",
   "execution_count": 8,
   "metadata": {
    "executionInfo": {
     "elapsed": 778,
     "status": "ok",
     "timestamp": 1607618789700,
     "user": {
      "displayName": "Yogesh Sharma",
      "photoUrl": "https://lh3.googleusercontent.com/a-/AOh14GjOKzky3zu5ThsPmztjQRKmiL_bdoWiWlluZUaFvw=s64",
      "userId": "07927222175763348175"
     },
     "user_tz": -330
    },
    "id": "dtJkvfw3O17v"
   },
   "outputs": [],
   "source": [
    "def _legacy_weights(layer):\n",
    "  \"\"\"DO NOT USE.\n",
    "  For legacy reason, the layer.weights was in the order of\n",
    "  [self.trainable_weights + self.non_trainable_weights], and this order was\n",
    "  used for preserving the weights in h5 format. The new order of layer.weights\n",
    "  are the same as layer.get_weights() which is more intuitive for user. To\n",
    "  keep supporting the existing saved h5 file, this method should be used to\n",
    "  save/load weights. In future version, we will delete this method and\n",
    "  introduce a breaking change for h5 and stay with the new order for weights.\n",
    "  Args:\n",
    "    layer: a `tf.keras.Model` or `tf.keras.layers.Layer` instance.\n",
    "  Returns:\n",
    "    A list of variables with the order of trainable_weights, followed by\n",
    "      non_trainable_weights.\n",
    "  \"\"\"\n",
    "  weights = layer.trainable_weights + layer.non_trainable_weights\n",
    "  if any(not isinstance(w, tf.Variable) for w in weights):\n",
    "    raise NotImplementedError(\n",
    "        'Save or restore weights that is not an instance of `tf.Variable` is '\n",
    "        'not supported in h5, use `save_format=\\'tf\\'` instead. Got a model '\n",
    "        'or layer {} with weights {}'.format(layer.__class__.__name__, weights))\n",
    "  return weights"
   ]
  },
  {
   "cell_type": "code",
   "execution_count": 15,
   "metadata": {
    "colab": {
     "base_uri": "https://localhost:8080/"
    },
    "executionInfo": {
     "elapsed": 1583,
     "status": "ok",
     "timestamp": 1607619077535,
     "user": {
      "displayName": "Yogesh Sharma",
      "photoUrl": "https://lh3.googleusercontent.com/a-/AOh14GjOKzky3zu5ThsPmztjQRKmiL_bdoWiWlluZUaFvw=s64",
      "userId": "07927222175763348175"
     },
     "user_tz": -330
    },
    "id": "eQa_ip_9CAfN",
    "outputId": "b9fc3404-9579-4b4f-aa07-e14ab9b89c4e"
   },
   "outputs": [
    {
     "name": "stdout",
     "output_type": "stream",
     "text": [
      "[<tensorflow.python.keras.layers.convolutional.Conv2D object at 0x7f7c1c157208>, <tensorflow.python.keras.layers.convolutional.Conv2D object at 0x7f7c1c157780>, <tensorflow.python.keras.layers.convolutional.Conv2D object at 0x7f7c1c2244e0>, <tensorflow.python.keras.layers.convolutional.Conv2D object at 0x7f7c1c22f3c8>, <tensorflow.python.keras.layers.convolutional.Conv2D object at 0x7f7c1c237ac8>, <tensorflow.python.keras.layers.convolutional.Conv2D object at 0x7f7c1c2296a0>, <tensorflow.python.keras.layers.convolutional.Conv2D object at 0x7f7c1c22f9b0>, <tensorflow.python.keras.layers.convolutional.Conv2D object at 0x7f7c1c237eb8>, <tensorflow.python.keras.layers.convolutional.Conv2D object at 0x7f7c1c24d588>, <tensorflow.python.keras.layers.convolutional.Conv2D object at 0x7f7c1c1dd1d0>, <tensorflow.python.keras.layers.convolutional.Conv2D object at 0x7f7c1c1e6a20>, <tensorflow.python.keras.layers.convolutional.Conv2D object at 0x7f7c1c25a240>, <tensorflow.python.keras.layers.convolutional.Conv2D object at 0x7f7c1c1dd908>, <tensorflow.python.keras.layers.convolutional.Conv2D object at 0x7f7c1c1e6e10>, <tensorflow.python.keras.layers.convolutional.Conv2D object at 0x7f7c1c1fc4e0>, <tensorflow.python.keras.layers.convolutional.Conv2D object at 0x7f7c1c20d588>, <tensorflow.python.keras.layers.convolutional.Conv2D object at 0x7f7c1c218c88>, <tensorflow.python.keras.layers.convolutional.Conv2D object at 0x7f7c1c2024a8>, <tensorflow.python.keras.layers.convolutional.Conv2D object at 0x7f7c1c20db70>, <tensorflow.python.keras.layers.convolutional.Conv2D object at 0x7f7c1c19e3c8>, <tensorflow.python.keras.layers.convolutional.Conv2D object at 0x7f7c1c1a8748>, <tensorflow.python.keras.layers.convolutional.Conv2D object at 0x7f7c1c15d7f0>, <tensorflow.python.keras.layers.convolutional.Conv2D object at 0x7f7c1c2fa048>, <tensorflow.python.keras.layers.convolutional.Conv2D object at 0x7f7c1c1d7b38>, <tensorflow.python.keras.layers.convolutional.Conv2D object at 0x7f7c1c15def0>, <tensorflow.python.keras.layers.convolutional.Conv2D object at 0x7f7c1c2fa710>, <tensorflow.python.keras.layers.convolutional.Conv2D object at 0x7f7c1c176ac8>, <tensorflow.python.keras.layers.convolutional.Conv2D object at 0x7f7c1c1894a8>, <tensorflow.python.keras.layers.convolutional.Conv2D object at 0x7f7c1c19a0f0>, <tensorflow.python.keras.layers.convolutional.Conv2D object at 0x7f7c1c17e780>, <tensorflow.python.keras.layers.convolutional.Conv2D object at 0x7f7c1c189e48>, <tensorflow.python.keras.layers.convolutional.Conv2D object at 0x7f7c1c19a668>, <tensorflow.python.keras.layers.convolutional.Conv2D object at 0x7f7c1c0e6a20>, <tensorflow.python.keras.layers.convolutional.Conv2D object at 0x7f7c1c0f8400>, <tensorflow.python.keras.layers.convolutional.Conv2D object at 0x7f7c1c107048>, <tensorflow.python.keras.layers.convolutional.Conv2D object at 0x7f7c1c0ed6d8>, <tensorflow.python.keras.layers.convolutional.Conv2D object at 0x7f7c1c0f8da0>, <tensorflow.python.keras.layers.convolutional.Conv2D object at 0x7f7c1c1075c0>, <tensorflow.python.keras.layers.convolutional.Conv2D object at 0x7f7c1c110978>, <tensorflow.python.keras.layers.convolutional.Conv2D object at 0x7f7c1c0c5a20>, <tensorflow.python.keras.layers.convolutional.Conv2D object at 0x7f7c1c05b278>, <tensorflow.python.keras.layers.convolutional.Conv2D object at 0x7f7c1c0bd898>, <tensorflow.python.keras.layers.convolutional.Conv2D object at 0x7f7c1c0c5e48>, <tensorflow.python.keras.layers.convolutional.Conv2D object at 0x7f7c1c05b940>, <tensorflow.python.keras.layers.convolutional.Conv2D object at 0x7f7c1c062cf8>, <tensorflow.python.keras.layers.convolutional.Conv2D object at 0x7f7c1c075da0>, <tensorflow.python.keras.layers.convolutional.Conv2D object at 0x7f7c1c0854e0>, <tensorflow.python.keras.layers.convolutional.Conv2D object at 0x7f7c1c0759b0>, <tensorflow.python.keras.layers.convolutional.Conv2D object at 0x7f7c1c07c3c8>, <tensorflow.python.keras.layers.convolutional.Conv2D object at 0x7f7c1c085ba8>, <tensorflow.python.keras.layers.convolutional.Conv2D object at 0x7f7c1c0970f0>, <tensorflow.python.keras.layers.convolutional.Conv2D object at 0x7f7c1c01e278>, <tensorflow.python.keras.layers.convolutional.Conv2D object at 0x7f7c1c033438>, <tensorflow.python.keras.layers.convolutional.Conv2D object at 0x7f7c1c097c18>, <tensorflow.python.keras.layers.convolutional.Conv2D object at 0x7f7c1c02a278>, <tensorflow.python.keras.layers.convolutional.Conv2D object at 0x7f7c1c033b00>, <tensorflow.python.keras.layers.convolutional.Conv2D object at 0x7f7c1c03beb8>, <tensorflow.python.keras.layers.convolutional.Conv2D object at 0x7f7c1c1ba400>, <tensorflow.python.keras.layers.convolutional.Conv2D object at 0x7f7c1c0a6630>, <tensorflow.python.keras.layers.core.Dense object at 0x7f7c1c1ba860>, <tensorflow.python.keras.layers.core.Dense object at 0x7f7c1c0a6cc0>, <tensorflow.python.keras.layers.core.Dense object at 0x7f7c1c1c25f8>, <tensorflow.python.keras.layers.core.Dense object at 0x7f7c1c0ad828>, <tensorflow.python.keras.layers.core.Dense object at 0x7f7c1c04ea58>]\n",
      "['conv1/7x7_s2', 'conv2/3x3_reduce', 'conv2/3x3', 'inception_3a/3x3_reduce', 'inception_3a/5x5_reduce', 'inception_3a/1x1', 'inception_3a/3x3', 'inception_3a/5x5', 'inception_3a/pool_proj', 'inception_3b/3x3_reduce', 'inception_3b/5x5_reduce', 'inception_3b/1x1', 'inception_3b/3x3', 'inception_3b/5x5', 'inception_3b/pool_proj', 'inception_4a/3x3_reduce', 'inception_4a/5x5_reduce', 'inception_4a/1x1', 'inception_4a/3x3', 'inception_4a/5x5', 'inception_4a/pool_proj', 'inception_4b/3x3_reduce', 'inception_4b/5x5_reduce', 'inception_4b/1x1', 'inception_4b/3x3', 'inception_4b/5x5', 'inception_4b/pool_proj', 'inception_4c/3x3_reduce', 'inception_4c/5x5_reduce', 'inception_4c/1x1', 'inception_4c/3x3', 'inception_4c/5x5', 'inception_4c/pool_proj', 'inception_4d/3x3_reduce', 'inception_4d/5x5_reduce', 'inception_4d/1x1', 'inception_4d/3x3', 'inception_4d/5x5', 'inception_4d/pool_proj', 'inception_4e/3x3_reduce', 'inception_4e/5x5_reduce', 'inception_4e/1x1', 'inception_4e/3x3', 'inception_4e/5x5', 'inception_4e/pool_proj', 'inception_5a/3x3_reduce', 'inception_5a/5x5_reduce', 'inception_5a/1x1', 'inception_5a/3x3', 'inception_5a/5x5', 'inception_5a/pool_proj', 'inception_5b/3x3_reduce', 'inception_5b/5x5_reduce', 'inception_5b/1x1', 'inception_5b/3x3', 'inception_5b/5x5', 'inception_5b/pool_proj', 'loss1/conv', 'loss2/conv', 'loss1/fc', 'loss2/fc', 'loss1/classifier', 'loss2/classifier', 'loss3/classifier']\n"
     ]
    }
   ],
   "source": [
    "filepath = '/content/inception_v1_weights/googlenet_weights.h5'\n",
    "opened_new_file = not isinstance(filepath, h5py.File)\n",
    "if opened_new_file:\n",
    "  f = h5py.File(filepath, mode='r')\n",
    "else:\n",
    "  f = filepath\n",
    "\n",
    "model_layers = model.layers\n",
    "filtered_layers = []\n",
    "for layer in model_layers:\n",
    "  weights = _legacy_weights(layer)\n",
    "  if weights:\n",
    "    filtered_layers.append(layer)\n",
    "print(filtered_layers)\n",
    "\n",
    "layer_names = load_attributes_from_hdf5_group(f, 'layer_names')\n",
    "filtered_layer_names = []\n",
    "for name in layer_names:\n",
    "  g = f[name]\n",
    "  weight_names = load_attributes_from_hdf5_group(g, 'weight_names')\n",
    "  if weight_names:\n",
    "    filtered_layer_names.append(name)\n",
    "print(filtered_layer_names)\n",
    "layer_names = filtered_layer_names\n",
    "if len(layer_names) != len(filtered_layers):\n",
    "    raise ValueError('You are trying to load a weight file '\n",
    "                     'containing ' + str(len(layer_names)) +\n",
    "                     ' layers into a model with ' + str(len(filtered_layers)) +\n",
    "                     ' layers.')"
   ]
  },
  {
   "cell_type": "code",
   "execution_count": null,
   "metadata": {
    "id": "oIdHWON4WopI"
   },
   "outputs": [],
   "source": [
    "weight_value_tuples = []\n",
    "for k, name in enumerate(layer_names):\n",
    "  g = f[name]\n",
    "  weight_names = load_attributes_from_hdf5_group(g, 'weight_names')\n",
    "  # print(weight_names)\n",
    "  weight_values = [np.asarray(g[weight_name]) for weight_name in weight_names]\n",
    "  layer = filtered_layers[k]\n",
    "  print(layer.name)\n",
    "  symbolic_weights = _legacy_weights(layer)\n",
    "  print(\"s_w\", symbolic_weights[0].shape)\n",
    "  print(\"w_v\", weight_values[0].shape)\n",
    "\n",
    "  if layer.__class__.__name__ == 'Conv2D':\n",
    "    if layer.data_format == 'channels_first':\n",
    "      # old: (filters, stack_size, kernel_rows, kernel_cols)\n",
    "      # new: (kernel_rows, kernel_cols, stack_size, filters)\n",
    "      weight_values[0] = np.transpose(weight_values[0], (2, 3, 1, 0))\n",
    "  if K.int_shape(layer.weights[0]) != weight_values[0].shape:\n",
    "    weight_values[0] = np.transpose(weight_values[0], (3, 2, 0, 1))\n",
    "  \n",
    "  if len(weight_values) != len(symbolic_weights):\n",
    "      raise ValueError('Layer #' + str(k) + ' (named \"' + layer.name +\n",
    "                       '\" in the current model) was found to '\n",
    "                       'correspond to layer ' + name + ' in the save file. '\n",
    "                       'However the new layer ' + layer.name + ' expects ' +\n",
    "                       str(len(symbolic_weights)) +\n",
    "                       ' weights, but the saved weights have ' +\n",
    "                       str(len(weight_values)) + ' elements.')\n",
    "  weight_value_tuples += zip(symbolic_weights, weight_values)\n",
    "K.batch_set_value(weight_value_tuples)"
   ]
  }
 ],
 "metadata": {
  "accelerator": "GPU",
  "colab": {
   "authorship_tag": "ABX9TyNy3SqdpUpWYzC8gy3ygXYh",
   "collapsed_sections": [],
   "name": "Inception_v1(googLeNet).ipynb",
   "provenance": []
  },
  "kernelspec": {
   "display_name": "Python 3",
   "language": "python",
   "name": "python3"
  },
  "language_info": {
   "codemirror_mode": {
    "name": "ipython",
    "version": 3
   },
   "file_extension": ".py",
   "mimetype": "text/x-python",
   "name": "python",
   "nbconvert_exporter": "python",
   "pygments_lexer": "ipython3",
   "version": "3.7.10"
  }
 },
 "nbformat": 4,
 "nbformat_minor": 4
}
